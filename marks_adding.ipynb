{
  "nbformat": 4,
  "nbformat_minor": 0,
  "metadata": {
    "colab": {
      "provenance": []
    },
    "kernelspec": {
      "name": "python3",
      "display_name": "Python 3"
    },
    "language_info": {
      "name": "python"
    }
  },
  "cells": [
    {
      "cell_type": "code",
      "execution_count": 5,
      "metadata": {
        "id": "9_5ZNmikmytk",
        "colab": {
          "base_uri": "https://localhost:8080/"
        },
        "outputId": "7b5b7596-3539-4909-9fef-1390c030bcf4"
      },
      "outputs": [
        {
          "output_type": "stream",
          "name": "stdout",
          "text": [
            "Output file generated successfully: output_total_marks.csv\n"
          ]
        }
      ],
      "source": [
        "import pandas as pd\n",
        "\n",
        "# Step 1: Read the input CSV file\n",
        "input_file = \"input_marks.csv\"  # Example file path\n",
        "df = pd.read_csv(input_file)\n",
        "\n",
        "# Step 2: Group by 'Roll Num' and sum 'Marks'\n",
        "df_grouped = df.groupby('Roll Num', as_index=False).sum()\n",
        "\n",
        "# Step 3: Write the result to a new output file\n",
        "output_file = \"output_total_marks.csv\"\n",
        "df_grouped.to_csv(output_file, index=False)\n",
        "\n",
        "print(\"Output file generated successfully:\", output_file)\n"
      ]
    },
    {
      "cell_type": "code",
      "metadata": {
        "colab": {
          "base_uri": "https://localhost:8080/"
        },
        "id": "750f0754",
        "outputId": "446ae7ee-5d4d-4e37-8b6c-00b6a9b8bc79"
      },
      "source": [
        "# Create a sample input_marks.csv file\n",
        "data = {'Roll Num': [101, 102, 101, 103, 102],\n",
        "        'Marks': [85, 78, 92, 65, 88]}\n",
        "sample_df = pd.DataFrame(data)\n",
        "sample_df.to_csv('input_marks.csv', index=False)\n",
        "\n",
        "print(\"Sample 'input_marks.csv' created.\")"
      ],
      "execution_count": 6,
      "outputs": [
        {
          "output_type": "stream",
          "name": "stdout",
          "text": [
            "Sample 'input_marks.csv' created.\n"
          ]
        }
      ]
    }
  ]
}